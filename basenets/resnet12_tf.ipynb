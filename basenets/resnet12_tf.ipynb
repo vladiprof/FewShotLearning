{
 "cells": [
  {
   "cell_type": "code",
   "execution_count": 16,
   "metadata": {},
   "outputs": [],
   "source": [
    "from tensorflow.keras import layers, models\n",
    "import numpy as np"
   ]
  },
  {
   "cell_type": "code",
   "execution_count": 36,
   "metadata": {},
   "outputs": [],
   "source": [
    "class Resnet12:\n",
    "    def __init__(self):\n",
    "        self.flatten = layers.Flatten()\n",
    "        self.dense_1 = layers.Dense(1024, activation='relu')\n",
    "        self.dense_2 = layers.Dense(512, activation='relu')\n",
    "    \n",
    "    def embedding_model(self, height, width):\n",
    "        inputs = layers.Input(shape=(height, width, 3))\n",
    "        x = self.flatten(inputs)\n",
    "        x = self.dense_1(x)\n",
    "        x = self.dense_2(x)\n",
    "        \n",
    "        return models.Model(inputs=inputs, outputs=x)\n",
    "    \n",
    "    def "
   ]
  }
 ],
 "metadata": {
  "kernelspec": {
   "display_name": "Python 3",
   "language": "python",
   "name": "python3"
  },
  "language_info": {
   "codemirror_mode": {
    "name": "ipython",
    "version": 3
   },
   "file_extension": ".py",
   "mimetype": "text/x-python",
   "name": "python",
   "nbconvert_exporter": "python",
   "pygments_lexer": "ipython3",
   "version": "3.7.2"
  }
 },
 "nbformat": 4,
 "nbformat_minor": 2
}
